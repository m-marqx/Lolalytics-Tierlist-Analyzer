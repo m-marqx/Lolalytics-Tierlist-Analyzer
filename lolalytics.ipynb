{
 "cells": [
  {
   "cell_type": "code",
   "execution_count": 1,
   "metadata": {},
   "outputs": [],
   "source": [
    "import pandas as pd\n",
    "import plotly.express as px\n",
    "from selenium import webdriver\n",
    "from selenium.webdriver.common.by import By\n",
    "from selenium.webdriver.support.ui import WebDriverWait\n",
    "from selenium.webdriver.support import expected_conditions as EC\n",
    "from bs4 import BeautifulSoup"
   ]
  },
  {
   "cell_type": "code",
   "execution_count": 2,
   "metadata": {},
   "outputs": [],
   "source": [
    "def get_champion_tierlist(patch:str = '13.9'):\n",
    "    driver = webdriver.Chrome()\n",
    "    url = f\"https://lolalytics.com/lol/tierlist/?patch={patch}\"\n",
    "\n",
    "    driver.get(url)\n",
    "    wait = WebDriverWait(driver, 60)\n",
    "    local_class = wait.until(EC.presence_of_element_located((By.XPATH, \"//*[@id='root']/div[6]/div/div\")))\n",
    "    element_class = local_class.get_attribute(\"class\")\n",
    "\n",
    "    soup = BeautifulSoup(driver.page_source)\n",
    "\n",
    "    tier_list = {}\n",
    "    tierlist_div = soup.find('div', attrs={'class': element_class}).find_all('div', recursive=False)\n",
    "\n",
    "    for row in tierlist_div:\n",
    "        columns = row.find_all('div')\n",
    "\n",
    "        tier_list[columns[1].text] = {\n",
    "            \"tier\":columns[2].text,\n",
    "            \"pickLane\":columns[3].text,\n",
    "            \"winRate\":columns[6].text,\n",
    "            \"delta\":columns[7].text,\n",
    "            \"pickRate\":columns[8].text,\n",
    "            \"banRate\":columns[9].text,\n",
    "            \"games\":columns[10].text,\n",
    "        }\n",
    "\n",
    "    driver.close()\n",
    "    return tier_list"
   ]
  },
  {
   "cell_type": "code",
   "execution_count": 3,
   "metadata": {},
   "outputs": [],
   "source": [
    "def get_tierlist(patch_list: list):\n",
    "\n",
    "    data_frames_aggregated = {}\n",
    "    for patch in patch_list:\n",
    "        data = pd.DataFrame(get_champion_tierlist(patch)).T\n",
    "        data_frames_aggregated[patch] = data\n",
    "\n",
    "    data = pd.concat(data_frames_aggregated).reset_index()\n",
    "    data2 =  data.sort_values(by=['level_0', 'level_1'])\n",
    "\n",
    "    numeric_data = data2.copy()\n",
    "    cond = numeric_data[numeric_data.level_0 == numeric_data.level_0.min()]['level_1']\n",
    "\n",
    "    columns = ['level_0','level_1']\n",
    "    columns.extend(list(data2.columns[3:]))\n",
    "\n",
    "    numeric_data_filtered = data2[data2['level_1'].isin(cond)]\n",
    "    numeric_data_filtered = numeric_data_filtered[columns].set_index('level_0')\n",
    "\n",
    "    tierlist_values = numeric_data_filtered.iloc[:,1:-1].astype('Float64')\n",
    "    tierlist_games = numeric_data_filtered.iloc[:,-1].str.replace('.', '')\n",
    "    tierlist_games = tierlist_games.astype('Float64')\n",
    "    tierlist_champions = numeric_data_filtered['level_1']\n",
    "\n",
    "    tierlist_dataframe = pd.concat(\n",
    "        [\n",
    "            tierlist_champions,\n",
    "            tierlist_values,\n",
    "            tierlist_games\n",
    "        ],\n",
    "        axis=1,\n",
    "        )\n",
    "\n",
    "    tierlist_dataframe.rename(columns={\"level_1\":\"champion\"},inplace=True)\n",
    "    return tierlist_dataframe"
   ]
  },
  {
   "cell_type": "code",
   "execution_count": 4,
   "metadata": {},
   "outputs": [],
   "source": [
    "def fig_tierlist(tierlist_df: pd.DataFrame, information: str = \"winRate\"):\n",
    "\n",
    "    fig = px.line(\n",
    "        tierlist_df,\n",
    "        x=\"champion\",\n",
    "        y=information,\n",
    "        color=tierlist_df.index\n",
    "    )\n",
    "\n",
    "    fig.update_layout(\n",
    "        title=f\"{information} between patches\",\n",
    "        xaxis_title=\"Champion\",\n",
    "        yaxis_title=f\"{information}\"\n",
    "    )\n",
    "\n",
    "    return fig"
   ]
  },
  {
   "cell_type": "code",
   "execution_count": 5,
   "metadata": {},
   "outputs": [],
   "source": [
    "def fig_tierlist_grouped(tierlist_df: pd.DataFrame, information: str = \"winRate\", method: str = \"mean\"):\n",
    "\n",
    "    if method == \"mean\":\n",
    "        grouped_champ_df = tierlist_df.groupby(by=['champion']).mean()\n",
    "    elif method == \"median\":\n",
    "        grouped_champ_df = tierlist_df.groupby(by=['champion']).median()\n",
    "    elif method == \"std\":\n",
    "        grouped_champ_df = tierlist_df.groupby(by=['champion']).std()\n",
    "    elif method == \"max\":\n",
    "        grouped_champ_df = tierlist_df.groupby(by=['champion']).max()\n",
    "    elif method == \"min\":\n",
    "        grouped_champ_df = tierlist_df.groupby(by=['champion']).min()\n",
    "    else:\n",
    "        raise ValueError(\"method param must be mean, median, std, max or min\")\n",
    "\n",
    "    fig = px.line(\n",
    "        grouped_champ_df,\n",
    "        x=grouped_champ_df.index,\n",
    "        y=information,\n",
    "    )\n",
    "\n",
    "    fig.update_layout(\n",
    "        title=f\"{information} grouped by {method}\",\n",
    "        xaxis_title=\"Champion\",\n",
    "        yaxis_title=f\"{information}\"\n",
    "    )\n",
    "\n",
    "    return fig"
   ]
  },
  {
   "cell_type": "code",
   "execution_count": 6,
   "metadata": {},
   "outputs": [
    {
     "data": {
      "application/vnd.plotly.v1+json": {
       "config": {
        "plotlyServerURL": "https://plot.ly"
       },
       "data": [
        {
         "hovertemplate": "champion=%{x}<br>winRate=%{y}<extra></extra>",
         "legendgroup": "",
         "line": {
          "color": "#636efa",
          "dash": "solid"
         },
         "marker": {
          "symbol": "circle"
         },
         "mode": "lines",
         "name": "",
         "orientation": "v",
         "showlegend": false,
         "type": "scatter",
         "x": [
          "Aatrox",
          "Ahri",
          "Akali",
          "Akshan",
          "Alistar",
          "Amumu",
          "Anivia",
          "Annie",
          "Aphelios",
          "Ashe",
          "Aurelion Sol",
          "Azir",
          "Bard",
          "Bel'Veth",
          "Blitzcrank",
          "Brand",
          "Braum",
          "Caitlyn",
          "Camille",
          "Cassiopeia",
          "Cho'Gath",
          "Corki",
          "Darius",
          "Diana",
          "Dr. Mundo",
          "Draven",
          "Ekko",
          "Elise",
          "Evelynn",
          "Ezreal",
          "Fiddlesticks",
          "Fiora",
          "Fizz",
          "Galio",
          "Gangplank",
          "Garen",
          "Gnar",
          "Gragas",
          "Graves",
          "Gwen",
          "Hecarim",
          "Heimerdinger",
          "Illaoi",
          "Irelia",
          "Ivern",
          "Janna",
          "Jarvan IV",
          "Jax",
          "Jayce",
          "Jhin",
          "Jinx",
          "K'Sante",
          "Kai'Sa",
          "Kalista",
          "Karma",
          "Karthus",
          "Kassadin",
          "Katarina",
          "Kayle",
          "Kayn",
          "Kennen",
          "Kha'Zix",
          "Kindred",
          "Kled",
          "Kog'Maw",
          "LeBlanc",
          "Lee Sin",
          "Leona",
          "Lillia",
          "Lissandra",
          "Lucian",
          "Lulu",
          "Lux",
          "Malphite",
          "Malzahar",
          "Maokai",
          "Master Yi",
          "Miss Fortune",
          "Mordekaiser",
          "Morgana",
          "Nami",
          "Nasus",
          "Nautilus",
          "Neeko",
          "Nidalee",
          "Nilah",
          "Nocturne",
          "Nunu",
          "Olaf",
          "Orianna",
          "Ornn",
          "Pantheon",
          "Poppy",
          "Pyke",
          "Qiyana",
          "Quinn",
          "Rakan",
          "Rammus",
          "Rek'Sai",
          "Rell",
          "Renata Glasc",
          "Renekton",
          "Rengar",
          "Riven",
          "Rumble",
          "Ryze",
          "Samira",
          "Sejuani",
          "Senna",
          "Seraphine",
          "Sett",
          "Shaco",
          "Shen",
          "Shyvana",
          "Singed",
          "Sion",
          "Sivir",
          "Skarner",
          "Sona",
          "Soraka",
          "Swain",
          "Sylas",
          "Syndra",
          "Tahm Kench",
          "Taliyah",
          "Talon",
          "Taric",
          "Teemo",
          "Thresh",
          "Tristana",
          "Trundle",
          "Tryndamere",
          "Twisted Fate",
          "Twitch",
          "Udyr",
          "Urgot",
          "Varus",
          "Vayne",
          "Veigar",
          "Vel'Koz",
          "Vex",
          "Vi",
          "Viego",
          "Viktor",
          "Vladimir",
          "Volibear",
          "Warwick",
          "Wukong",
          "Xayah",
          "Xerath",
          "Xin Zhao",
          "Yasuo",
          "Yone",
          "Yorick",
          "Yuumi",
          "Zac",
          "Zed",
          "Zeri",
          "Ziggs",
          "Zilean",
          "Zoe",
          "Zyra"
         ],
         "xaxis": "x",
         "y": [
          49.80375,
          51.625,
          49.07,
          53.41,
          50.942499999999995,
          52.56625,
          54.05375,
          54.10375,
          47.73875,
          51.3475,
          52.38875,
          47.33125,
          51.52625,
          52.35625,
          52.93625,
          51.21875,
          51.13125,
          50.1675,
          52.027499999999996,
          53.6275,
          52.13375,
          48.52625,
          51.5725,
          50.60375,
          52.285,
          51.3025,
          51.93625,
          51.96625,
          52.7275,
          49.99875,
          53.31,
          51.5725,
          52.1575,
          51.72125,
          50.948750000000004,
          51.26375,
          49.725,
          51.9125,
          49.34625,
          51.0575,
          50.84375,
          52.02375,
          52.08,
          51.144999999999996,
          50.81375,
          51.93125,
          53.14125,
          51.59125,
          50.60375,
          52.355,
          52.46625,
          48.14625,
          51.345,
          49.8675,
          49.675,
          50.3825,
          50.915,
          51.0975,
          52.2125,
          51.32875,
          50.03125,
          52.011250000000004,
          51.4725,
          53.655,
          52.64875,
          48.8025,
          49.9225,
          51.14875,
          51.38,
          51.29,
          50.22625,
          49.730000000000004,
          51.72,
          52.9,
          52.3375,
          52.85875,
          52.23875,
          51.9075,
          52.525,
          50.9,
          50.71375,
          51.90625,
          51.28625,
          50.6625,
          50.7825,
          53.77,
          52.94625,
          52.33125,
          53.33375,
          50.70125,
          52.6175,
          52.5375,
          52.4775,
          51.589999999999996,
          50.92625,
          53.2425,
          53.2475,
          52.863749999999996,
          52.41125,
          53.10625,
          51.66375,
          49.22625,
          51.56875,
          51.7225,
          50.45,
          49.60375,
          51.6125,
          51.04375,
          52.65,
          50.775,
          51.295,
          51.73875,
          52.762499999999996,
          50.863749999999996,
          53.4625,
          51.70375,
          51.60125,
          52.52625,
          53.22625,
          51.8575,
          50.9225,
          50.510000000000005,
          50.47375,
          52.1875,
          52.135,
          51.76625,
          53.81875,
          51.525,
          51.795,
          52.27375,
          50.75875,
          50.94625,
          50.71,
          52.81125,
          53.21625,
          52.11875,
          50.81125,
          50.955,
          51.515,
          52.51875,
          52.56875,
          52.005,
          49.754999999999995,
          51.64125,
          51.99625,
          49.56,
          52.4325,
          52.00625,
          52.29,
          52.488749999999996,
          52.0025,
          50.33375,
          50.036249999999995,
          50.90625,
          47.86125,
          52.42,
          50.9825,
          51.13875,
          51.605000000000004,
          52.269999999999996,
          51.75875,
          52.66375
         ],
         "yaxis": "y"
        }
       ],
       "layout": {
        "legend": {
         "tracegroupgap": 0
        },
        "margin": {
         "t": 60
        },
        "template": {
         "data": {
          "bar": [
           {
            "error_x": {
             "color": "#2a3f5f"
            },
            "error_y": {
             "color": "#2a3f5f"
            },
            "marker": {
             "line": {
              "color": "#E5ECF6",
              "width": 0.5
             },
             "pattern": {
              "fillmode": "overlay",
              "size": 10,
              "solidity": 0.2
             }
            },
            "type": "bar"
           }
          ],
          "barpolar": [
           {
            "marker": {
             "line": {
              "color": "#E5ECF6",
              "width": 0.5
             },
             "pattern": {
              "fillmode": "overlay",
              "size": 10,
              "solidity": 0.2
             }
            },
            "type": "barpolar"
           }
          ],
          "carpet": [
           {
            "aaxis": {
             "endlinecolor": "#2a3f5f",
             "gridcolor": "white",
             "linecolor": "white",
             "minorgridcolor": "white",
             "startlinecolor": "#2a3f5f"
            },
            "baxis": {
             "endlinecolor": "#2a3f5f",
             "gridcolor": "white",
             "linecolor": "white",
             "minorgridcolor": "white",
             "startlinecolor": "#2a3f5f"
            },
            "type": "carpet"
           }
          ],
          "choropleth": [
           {
            "colorbar": {
             "outlinewidth": 0,
             "ticks": ""
            },
            "type": "choropleth"
           }
          ],
          "contour": [
           {
            "colorbar": {
             "outlinewidth": 0,
             "ticks": ""
            },
            "colorscale": [
             [
              0,
              "#0d0887"
             ],
             [
              0.1111111111111111,
              "#46039f"
             ],
             [
              0.2222222222222222,
              "#7201a8"
             ],
             [
              0.3333333333333333,
              "#9c179e"
             ],
             [
              0.4444444444444444,
              "#bd3786"
             ],
             [
              0.5555555555555556,
              "#d8576b"
             ],
             [
              0.6666666666666666,
              "#ed7953"
             ],
             [
              0.7777777777777778,
              "#fb9f3a"
             ],
             [
              0.8888888888888888,
              "#fdca26"
             ],
             [
              1,
              "#f0f921"
             ]
            ],
            "type": "contour"
           }
          ],
          "contourcarpet": [
           {
            "colorbar": {
             "outlinewidth": 0,
             "ticks": ""
            },
            "type": "contourcarpet"
           }
          ],
          "heatmap": [
           {
            "colorbar": {
             "outlinewidth": 0,
             "ticks": ""
            },
            "colorscale": [
             [
              0,
              "#0d0887"
             ],
             [
              0.1111111111111111,
              "#46039f"
             ],
             [
              0.2222222222222222,
              "#7201a8"
             ],
             [
              0.3333333333333333,
              "#9c179e"
             ],
             [
              0.4444444444444444,
              "#bd3786"
             ],
             [
              0.5555555555555556,
              "#d8576b"
             ],
             [
              0.6666666666666666,
              "#ed7953"
             ],
             [
              0.7777777777777778,
              "#fb9f3a"
             ],
             [
              0.8888888888888888,
              "#fdca26"
             ],
             [
              1,
              "#f0f921"
             ]
            ],
            "type": "heatmap"
           }
          ],
          "heatmapgl": [
           {
            "colorbar": {
             "outlinewidth": 0,
             "ticks": ""
            },
            "colorscale": [
             [
              0,
              "#0d0887"
             ],
             [
              0.1111111111111111,
              "#46039f"
             ],
             [
              0.2222222222222222,
              "#7201a8"
             ],
             [
              0.3333333333333333,
              "#9c179e"
             ],
             [
              0.4444444444444444,
              "#bd3786"
             ],
             [
              0.5555555555555556,
              "#d8576b"
             ],
             [
              0.6666666666666666,
              "#ed7953"
             ],
             [
              0.7777777777777778,
              "#fb9f3a"
             ],
             [
              0.8888888888888888,
              "#fdca26"
             ],
             [
              1,
              "#f0f921"
             ]
            ],
            "type": "heatmapgl"
           }
          ],
          "histogram": [
           {
            "marker": {
             "pattern": {
              "fillmode": "overlay",
              "size": 10,
              "solidity": 0.2
             }
            },
            "type": "histogram"
           }
          ],
          "histogram2d": [
           {
            "colorbar": {
             "outlinewidth": 0,
             "ticks": ""
            },
            "colorscale": [
             [
              0,
              "#0d0887"
             ],
             [
              0.1111111111111111,
              "#46039f"
             ],
             [
              0.2222222222222222,
              "#7201a8"
             ],
             [
              0.3333333333333333,
              "#9c179e"
             ],
             [
              0.4444444444444444,
              "#bd3786"
             ],
             [
              0.5555555555555556,
              "#d8576b"
             ],
             [
              0.6666666666666666,
              "#ed7953"
             ],
             [
              0.7777777777777778,
              "#fb9f3a"
             ],
             [
              0.8888888888888888,
              "#fdca26"
             ],
             [
              1,
              "#f0f921"
             ]
            ],
            "type": "histogram2d"
           }
          ],
          "histogram2dcontour": [
           {
            "colorbar": {
             "outlinewidth": 0,
             "ticks": ""
            },
            "colorscale": [
             [
              0,
              "#0d0887"
             ],
             [
              0.1111111111111111,
              "#46039f"
             ],
             [
              0.2222222222222222,
              "#7201a8"
             ],
             [
              0.3333333333333333,
              "#9c179e"
             ],
             [
              0.4444444444444444,
              "#bd3786"
             ],
             [
              0.5555555555555556,
              "#d8576b"
             ],
             [
              0.6666666666666666,
              "#ed7953"
             ],
             [
              0.7777777777777778,
              "#fb9f3a"
             ],
             [
              0.8888888888888888,
              "#fdca26"
             ],
             [
              1,
              "#f0f921"
             ]
            ],
            "type": "histogram2dcontour"
           }
          ],
          "mesh3d": [
           {
            "colorbar": {
             "outlinewidth": 0,
             "ticks": ""
            },
            "type": "mesh3d"
           }
          ],
          "parcoords": [
           {
            "line": {
             "colorbar": {
              "outlinewidth": 0,
              "ticks": ""
             }
            },
            "type": "parcoords"
           }
          ],
          "pie": [
           {
            "automargin": true,
            "type": "pie"
           }
          ],
          "scatter": [
           {
            "fillpattern": {
             "fillmode": "overlay",
             "size": 10,
             "solidity": 0.2
            },
            "type": "scatter"
           }
          ],
          "scatter3d": [
           {
            "line": {
             "colorbar": {
              "outlinewidth": 0,
              "ticks": ""
             }
            },
            "marker": {
             "colorbar": {
              "outlinewidth": 0,
              "ticks": ""
             }
            },
            "type": "scatter3d"
           }
          ],
          "scattercarpet": [
           {
            "marker": {
             "colorbar": {
              "outlinewidth": 0,
              "ticks": ""
             }
            },
            "type": "scattercarpet"
           }
          ],
          "scattergeo": [
           {
            "marker": {
             "colorbar": {
              "outlinewidth": 0,
              "ticks": ""
             }
            },
            "type": "scattergeo"
           }
          ],
          "scattergl": [
           {
            "marker": {
             "colorbar": {
              "outlinewidth": 0,
              "ticks": ""
             }
            },
            "type": "scattergl"
           }
          ],
          "scattermapbox": [
           {
            "marker": {
             "colorbar": {
              "outlinewidth": 0,
              "ticks": ""
             }
            },
            "type": "scattermapbox"
           }
          ],
          "scatterpolar": [
           {
            "marker": {
             "colorbar": {
              "outlinewidth": 0,
              "ticks": ""
             }
            },
            "type": "scatterpolar"
           }
          ],
          "scatterpolargl": [
           {
            "marker": {
             "colorbar": {
              "outlinewidth": 0,
              "ticks": ""
             }
            },
            "type": "scatterpolargl"
           }
          ],
          "scatterternary": [
           {
            "marker": {
             "colorbar": {
              "outlinewidth": 0,
              "ticks": ""
             }
            },
            "type": "scatterternary"
           }
          ],
          "surface": [
           {
            "colorbar": {
             "outlinewidth": 0,
             "ticks": ""
            },
            "colorscale": [
             [
              0,
              "#0d0887"
             ],
             [
              0.1111111111111111,
              "#46039f"
             ],
             [
              0.2222222222222222,
              "#7201a8"
             ],
             [
              0.3333333333333333,
              "#9c179e"
             ],
             [
              0.4444444444444444,
              "#bd3786"
             ],
             [
              0.5555555555555556,
              "#d8576b"
             ],
             [
              0.6666666666666666,
              "#ed7953"
             ],
             [
              0.7777777777777778,
              "#fb9f3a"
             ],
             [
              0.8888888888888888,
              "#fdca26"
             ],
             [
              1,
              "#f0f921"
             ]
            ],
            "type": "surface"
           }
          ],
          "table": [
           {
            "cells": {
             "fill": {
              "color": "#EBF0F8"
             },
             "line": {
              "color": "white"
             }
            },
            "header": {
             "fill": {
              "color": "#C8D4E3"
             },
             "line": {
              "color": "white"
             }
            },
            "type": "table"
           }
          ]
         },
         "layout": {
          "annotationdefaults": {
           "arrowcolor": "#2a3f5f",
           "arrowhead": 0,
           "arrowwidth": 1
          },
          "autotypenumbers": "strict",
          "coloraxis": {
           "colorbar": {
            "outlinewidth": 0,
            "ticks": ""
           }
          },
          "colorscale": {
           "diverging": [
            [
             0,
             "#8e0152"
            ],
            [
             0.1,
             "#c51b7d"
            ],
            [
             0.2,
             "#de77ae"
            ],
            [
             0.3,
             "#f1b6da"
            ],
            [
             0.4,
             "#fde0ef"
            ],
            [
             0.5,
             "#f7f7f7"
            ],
            [
             0.6,
             "#e6f5d0"
            ],
            [
             0.7,
             "#b8e186"
            ],
            [
             0.8,
             "#7fbc41"
            ],
            [
             0.9,
             "#4d9221"
            ],
            [
             1,
             "#276419"
            ]
           ],
           "sequential": [
            [
             0,
             "#0d0887"
            ],
            [
             0.1111111111111111,
             "#46039f"
            ],
            [
             0.2222222222222222,
             "#7201a8"
            ],
            [
             0.3333333333333333,
             "#9c179e"
            ],
            [
             0.4444444444444444,
             "#bd3786"
            ],
            [
             0.5555555555555556,
             "#d8576b"
            ],
            [
             0.6666666666666666,
             "#ed7953"
            ],
            [
             0.7777777777777778,
             "#fb9f3a"
            ],
            [
             0.8888888888888888,
             "#fdca26"
            ],
            [
             1,
             "#f0f921"
            ]
           ],
           "sequentialminus": [
            [
             0,
             "#0d0887"
            ],
            [
             0.1111111111111111,
             "#46039f"
            ],
            [
             0.2222222222222222,
             "#7201a8"
            ],
            [
             0.3333333333333333,
             "#9c179e"
            ],
            [
             0.4444444444444444,
             "#bd3786"
            ],
            [
             0.5555555555555556,
             "#d8576b"
            ],
            [
             0.6666666666666666,
             "#ed7953"
            ],
            [
             0.7777777777777778,
             "#fb9f3a"
            ],
            [
             0.8888888888888888,
             "#fdca26"
            ],
            [
             1,
             "#f0f921"
            ]
           ]
          },
          "colorway": [
           "#636efa",
           "#EF553B",
           "#00cc96",
           "#ab63fa",
           "#FFA15A",
           "#19d3f3",
           "#FF6692",
           "#B6E880",
           "#FF97FF",
           "#FECB52"
          ],
          "font": {
           "color": "#2a3f5f"
          },
          "geo": {
           "bgcolor": "white",
           "lakecolor": "white",
           "landcolor": "#E5ECF6",
           "showlakes": true,
           "showland": true,
           "subunitcolor": "white"
          },
          "hoverlabel": {
           "align": "left"
          },
          "hovermode": "closest",
          "mapbox": {
           "style": "light"
          },
          "paper_bgcolor": "white",
          "plot_bgcolor": "#E5ECF6",
          "polar": {
           "angularaxis": {
            "gridcolor": "white",
            "linecolor": "white",
            "ticks": ""
           },
           "bgcolor": "#E5ECF6",
           "radialaxis": {
            "gridcolor": "white",
            "linecolor": "white",
            "ticks": ""
           }
          },
          "scene": {
           "xaxis": {
            "backgroundcolor": "#E5ECF6",
            "gridcolor": "white",
            "gridwidth": 2,
            "linecolor": "white",
            "showbackground": true,
            "ticks": "",
            "zerolinecolor": "white"
           },
           "yaxis": {
            "backgroundcolor": "#E5ECF6",
            "gridcolor": "white",
            "gridwidth": 2,
            "linecolor": "white",
            "showbackground": true,
            "ticks": "",
            "zerolinecolor": "white"
           },
           "zaxis": {
            "backgroundcolor": "#E5ECF6",
            "gridcolor": "white",
            "gridwidth": 2,
            "linecolor": "white",
            "showbackground": true,
            "ticks": "",
            "zerolinecolor": "white"
           }
          },
          "shapedefaults": {
           "line": {
            "color": "#2a3f5f"
           }
          },
          "ternary": {
           "aaxis": {
            "gridcolor": "white",
            "linecolor": "white",
            "ticks": ""
           },
           "baxis": {
            "gridcolor": "white",
            "linecolor": "white",
            "ticks": ""
           },
           "bgcolor": "#E5ECF6",
           "caxis": {
            "gridcolor": "white",
            "linecolor": "white",
            "ticks": ""
           }
          },
          "title": {
           "x": 0.05
          },
          "xaxis": {
           "automargin": true,
           "gridcolor": "white",
           "linecolor": "white",
           "ticks": "",
           "title": {
            "standoff": 15
           },
           "zerolinecolor": "white",
           "zerolinewidth": 2
          },
          "yaxis": {
           "automargin": true,
           "gridcolor": "white",
           "linecolor": "white",
           "ticks": "",
           "title": {
            "standoff": 15
           },
           "zerolinecolor": "white",
           "zerolinewidth": 2
          }
         }
        },
        "title": {
         "text": "winRate grouped by mean"
        },
        "xaxis": {
         "anchor": "y",
         "domain": [
          0,
          1
         ],
         "title": {
          "text": "Champion"
         }
        },
        "yaxis": {
         "anchor": "x",
         "domain": [
          0,
          1
         ],
         "title": {
          "text": "winRate"
         }
        }
       }
      }
     },
     "metadata": {},
     "output_type": "display_data"
    }
   ],
   "source": [
    "patch_list =[13.9,13.8,13.7,13.6,13.5,13.4,13.3,13.1]\n",
    "\n",
    "tier_data = get_tierlist(patch_list)\n",
    "fig_tierlist_grouped(tier_data)"
   ]
  }
 ],
 "metadata": {
  "kernelspec": {
   "display_name": "Python 3",
   "language": "python",
   "name": "python3"
  },
  "language_info": {
   "codemirror_mode": {
    "name": "ipython",
    "version": 3
   },
   "file_extension": ".py",
   "mimetype": "text/x-python",
   "name": "python",
   "nbconvert_exporter": "python",
   "pygments_lexer": "ipython3",
   "version": "3.11.3"
  },
  "orig_nbformat": 4
 },
 "nbformat": 4,
 "nbformat_minor": 2
}
